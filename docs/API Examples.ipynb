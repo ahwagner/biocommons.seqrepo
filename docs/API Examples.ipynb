{
 "cells": [
  {
   "cell_type": "markdown",
   "metadata": {},
   "source": [
    "## Python library"
   ]
  },
  {
   "cell_type": "code",
   "execution_count": 8,
   "metadata": {},
   "outputs": [
    {
     "data": {
      "text/plain": [
       "'0.6.3.dev2+g54a8b42.d20200830'"
      ]
     },
     "execution_count": 8,
     "metadata": {},
     "output_type": "execute_result"
    }
   ],
   "source": [
    "from biocommons.seqrepo import SeqRepo, __version__\n",
    "__version__"
   ]
  },
  {
   "cell_type": "code",
   "execution_count": 19,
   "metadata": {},
   "outputs": [],
   "source": [
    "sr = SeqRepo(\"/usr/local/share/seqrepo/2020-04-13/\")"
   ]
  },
  {
   "cell_type": "code",
   "execution_count": 20,
   "metadata": {},
   "outputs": [
    {
     "data": {
      "text/plain": [
       "'GTGGAGCGCGCCGCCACGGA'"
      ]
     },
     "execution_count": 20,
     "metadata": {},
     "output_type": "execute_result"
    }
   ],
   "source": [
    "sr.fetch(namespace=\"GRCh38\", alias=\"chr1\", start=1000000, end=1000020)"
   ]
  },
  {
   "cell_type": "code",
   "execution_count": 21,
   "metadata": {},
   "outputs": [
    {
     "data": {
      "text/plain": [
       "'GTGGAGCGCGCCGCCACGGA'"
      ]
     },
     "execution_count": 21,
     "metadata": {},
     "output_type": "execute_result"
    }
   ],
   "source": [
    "sr[\"refseq:NC_000001.11\"][1000000:1000020]"
   ]
  },
  {
   "cell_type": "code",
   "execution_count": 16,
   "metadata": {},
   "outputs": [
    {
     "data": {
      "text/plain": [
       "'GTGGAGCGCGCCGCCACGGA'"
      ]
     },
     "execution_count": 16,
     "metadata": {},
     "output_type": "execute_result"
    }
   ],
   "source": [
    "sr[\"NC_000001.11\"][1000000:1000020]"
   ]
  },
  {
   "cell_type": "code",
   "execution_count": 17,
   "metadata": {},
   "outputs": [
    {
     "ename": "KeyError",
     "evalue": "'Alias chr1 (namespace: None): not unique'",
     "output_type": "error",
     "traceback": [
      "\u001b[0;31m---------------------------------------------------------------------------\u001b[0m",
      "\u001b[0;31mKeyError\u001b[0m                                  Traceback (most recent call last)",
      "\u001b[0;32m<ipython-input-17-8a11149a69be>\u001b[0m in \u001b[0;36m<module>\u001b[0;34m\u001b[0m\n\u001b[0;32m----> 1\u001b[0;31m \u001b[0msr\u001b[0m\u001b[0;34m[\u001b[0m\u001b[0;34m\"chr1\"\u001b[0m\u001b[0;34m]\u001b[0m\u001b[0;34m[\u001b[0m\u001b[0;36m1000000\u001b[0m\u001b[0;34m:\u001b[0m\u001b[0;36m1000020\u001b[0m\u001b[0;34m]\u001b[0m\u001b[0;34m\u001b[0m\u001b[0;34m\u001b[0m\u001b[0m\n\u001b[0m",
      "\u001b[0;32m~/projects/biocommons/biocommons.seqrepo/src/biocommons/seqrepo/seqrepo.py\u001b[0m in \u001b[0;36m__getitem__\u001b[0;34m(self, nsa)\u001b[0m\n\u001b[1;32m     72\u001b[0m         \u001b[0;31m# lookup aliases, optionally namespaced, like NM_01234.5 or NCBI:NM_01234.5\u001b[0m\u001b[0;34m\u001b[0m\u001b[0;34m\u001b[0m\u001b[0;34m\u001b[0m\u001b[0m\n\u001b[1;32m     73\u001b[0m         \u001b[0mns\u001b[0m\u001b[0;34m,\u001b[0m \u001b[0ma\u001b[0m \u001b[0;34m=\u001b[0m \u001b[0mnsa\u001b[0m\u001b[0;34m.\u001b[0m\u001b[0msplit\u001b[0m\u001b[0;34m(\u001b[0m\u001b[0mnsa_sep\u001b[0m\u001b[0;34m)\u001b[0m \u001b[0;32mif\u001b[0m \u001b[0mnsa_sep\u001b[0m \u001b[0;32min\u001b[0m \u001b[0mnsa\u001b[0m \u001b[0;32melse\u001b[0m \u001b[0;34m(\u001b[0m\u001b[0;32mNone\u001b[0m\u001b[0;34m,\u001b[0m \u001b[0mnsa\u001b[0m\u001b[0;34m)\u001b[0m\u001b[0;34m\u001b[0m\u001b[0;34m\u001b[0m\u001b[0m\n\u001b[0;32m---> 74\u001b[0;31m         \u001b[0;32mreturn\u001b[0m \u001b[0mself\u001b[0m\u001b[0;34m.\u001b[0m\u001b[0mfetch\u001b[0m\u001b[0;34m(\u001b[0m\u001b[0malias\u001b[0m\u001b[0;34m=\u001b[0m\u001b[0ma\u001b[0m\u001b[0;34m,\u001b[0m \u001b[0mnamespace\u001b[0m\u001b[0;34m=\u001b[0m\u001b[0mns\u001b[0m\u001b[0;34m)\u001b[0m\u001b[0;34m\u001b[0m\u001b[0;34m\u001b[0m\u001b[0m\n\u001b[0m\u001b[1;32m     75\u001b[0m \u001b[0;34m\u001b[0m\u001b[0m\n\u001b[1;32m     76\u001b[0m     \u001b[0;32mdef\u001b[0m \u001b[0m__iter__\u001b[0m\u001b[0;34m(\u001b[0m\u001b[0mself\u001b[0m\u001b[0;34m)\u001b[0m\u001b[0;34m:\u001b[0m\u001b[0;34m\u001b[0m\u001b[0;34m\u001b[0m\u001b[0m\n",
      "\u001b[0;32m~/projects/biocommons/biocommons.seqrepo/src/biocommons/seqrepo/seqrepo.py\u001b[0m in \u001b[0;36mfetch\u001b[0;34m(self, alias, start, end, namespace)\u001b[0m\n\u001b[1;32m     98\u001b[0m \u001b[0;34m\u001b[0m\u001b[0m\n\u001b[1;32m     99\u001b[0m     \u001b[0;32mdef\u001b[0m \u001b[0mfetch\u001b[0m\u001b[0;34m(\u001b[0m\u001b[0mself\u001b[0m\u001b[0;34m,\u001b[0m \u001b[0malias\u001b[0m\u001b[0;34m,\u001b[0m \u001b[0mstart\u001b[0m\u001b[0;34m=\u001b[0m\u001b[0;32mNone\u001b[0m\u001b[0;34m,\u001b[0m \u001b[0mend\u001b[0m\u001b[0;34m=\u001b[0m\u001b[0;32mNone\u001b[0m\u001b[0;34m,\u001b[0m \u001b[0mnamespace\u001b[0m\u001b[0;34m=\u001b[0m\u001b[0;32mNone\u001b[0m\u001b[0;34m)\u001b[0m\u001b[0;34m:\u001b[0m\u001b[0;34m\u001b[0m\u001b[0;34m\u001b[0m\u001b[0m\n\u001b[0;32m--> 100\u001b[0;31m         \u001b[0mseq_id\u001b[0m \u001b[0;34m=\u001b[0m \u001b[0mself\u001b[0m\u001b[0;34m.\u001b[0m\u001b[0m_get_unique_seqid\u001b[0m\u001b[0;34m(\u001b[0m\u001b[0malias\u001b[0m\u001b[0;34m=\u001b[0m\u001b[0malias\u001b[0m\u001b[0;34m,\u001b[0m \u001b[0mnamespace\u001b[0m\u001b[0;34m=\u001b[0m\u001b[0mnamespace\u001b[0m\u001b[0;34m)\u001b[0m\u001b[0;34m\u001b[0m\u001b[0;34m\u001b[0m\u001b[0m\n\u001b[0m\u001b[1;32m    101\u001b[0m         \u001b[0;32mreturn\u001b[0m \u001b[0mself\u001b[0m\u001b[0;34m.\u001b[0m\u001b[0msequences\u001b[0m\u001b[0;34m.\u001b[0m\u001b[0mfetch\u001b[0m\u001b[0;34m(\u001b[0m\u001b[0mseq_id\u001b[0m\u001b[0;34m,\u001b[0m \u001b[0mstart\u001b[0m\u001b[0;34m,\u001b[0m \u001b[0mend\u001b[0m\u001b[0;34m)\u001b[0m\u001b[0;34m\u001b[0m\u001b[0;34m\u001b[0m\u001b[0m\n\u001b[1;32m    102\u001b[0m \u001b[0;34m\u001b[0m\u001b[0m\n",
      "\u001b[0;32m~/projects/biocommons/biocommons.seqrepo/src/biocommons/seqrepo/seqrepo.py\u001b[0m in \u001b[0;36m_get_unique_seqid\u001b[0;34m(self, alias, namespace)\u001b[0m\n\u001b[1;32m    222\u001b[0m         \u001b[0;32mif\u001b[0m \u001b[0mlen\u001b[0m\u001b[0;34m(\u001b[0m\u001b[0mseq_ids\u001b[0m\u001b[0;34m)\u001b[0m \u001b[0;34m>\u001b[0m \u001b[0;36m1\u001b[0m\u001b[0;34m:\u001b[0m\u001b[0;34m\u001b[0m\u001b[0;34m\u001b[0m\u001b[0m\n\u001b[1;32m    223\u001b[0m             \u001b[0;31m# This should only happen when namespace is None\u001b[0m\u001b[0;34m\u001b[0m\u001b[0;34m\u001b[0m\u001b[0;34m\u001b[0m\u001b[0m\n\u001b[0;32m--> 224\u001b[0;31m             \u001b[0;32mraise\u001b[0m \u001b[0mKeyError\u001b[0m\u001b[0;34m(\u001b[0m\u001b[0;34m\"Alias {} (namespace: {}): not unique\"\u001b[0m\u001b[0;34m.\u001b[0m\u001b[0mformat\u001b[0m\u001b[0;34m(\u001b[0m\u001b[0malias\u001b[0m\u001b[0;34m,\u001b[0m \u001b[0mnamespace\u001b[0m\u001b[0;34m)\u001b[0m\u001b[0;34m)\u001b[0m\u001b[0;34m\u001b[0m\u001b[0;34m\u001b[0m\u001b[0m\n\u001b[0m\u001b[1;32m    225\u001b[0m         \u001b[0;32mreturn\u001b[0m \u001b[0mseq_ids\u001b[0m\u001b[0;34m.\u001b[0m\u001b[0mpop\u001b[0m\u001b[0;34m(\u001b[0m\u001b[0;34m)\u001b[0m\u001b[0;34m\u001b[0m\u001b[0;34m\u001b[0m\u001b[0m\n\u001b[1;32m    226\u001b[0m \u001b[0;34m\u001b[0m\u001b[0m\n",
      "\u001b[0;31mKeyError\u001b[0m: 'Alias chr1 (namespace: None): not unique'"
     ]
    }
   ],
   "source": [
    "sr[\"chr1\"][1000000:1000020]"
   ]
  },
  {
   "cell_type": "code",
   "execution_count": 5,
   "metadata": {},
   "outputs": [
    {
     "data": {
      "text/plain": [
       "['GRCh38:1',\n",
       " 'GRCh38:chr1',\n",
       " 'GRCh38.p1:1',\n",
       " 'GRCh38.p1:chr1',\n",
       " 'GRCh38.p10:1',\n",
       " 'GRCh38.p10:chr1',\n",
       " 'GRCh38.p11:1',\n",
       " 'GRCh38.p11:chr1',\n",
       " 'GRCh38.p12:1',\n",
       " 'GRCh38.p12:chr1',\n",
       " 'GRCh38.p2:1',\n",
       " 'GRCh38.p2:chr1',\n",
       " 'GRCh38.p3:1',\n",
       " 'GRCh38.p3:chr1',\n",
       " 'GRCh38.p4:1',\n",
       " 'GRCh38.p4:chr1',\n",
       " 'GRCh38.p5:1',\n",
       " 'GRCh38.p5:chr1',\n",
       " 'GRCh38.p6:1',\n",
       " 'GRCh38.p6:chr1',\n",
       " 'GRCh38.p7:1',\n",
       " 'GRCh38.p7:chr1',\n",
       " 'GRCh38.p8:1',\n",
       " 'GRCh38.p8:chr1',\n",
       " 'GRCh38.p9:1',\n",
       " 'GRCh38.p9:chr1',\n",
       " 'MD5:6aef897c3d6ff0c78aff06ac189178dd',\n",
       " 'NCBI:NC_000001.11',\n",
       " 'refseq:NC_000001.11',\n",
       " 'SEGUID:FCUd6VJ6uikS/VWLbhGdVmj2rOA',\n",
       " 'SHA1:14251de9527aba2912fd558b6e119d5668f6ace0',\n",
       " 'VMC:GS_Ya6Rs7DHhDeg7YaOSg1EoNi3U_nQ9SvO',\n",
       " 'sha512t24u:Ya6Rs7DHhDeg7YaOSg1EoNi3U_nQ9SvO',\n",
       " 'ga4gh:SQ.Ya6Rs7DHhDeg7YaOSg1EoNi3U_nQ9SvO']"
      ]
     },
     "execution_count": 5,
     "metadata": {},
     "output_type": "execute_result"
    }
   ],
   "source": [
    "sr.translate_alias(\"NC_000001.11\")"
   ]
  },
  {
   "cell_type": "markdown",
   "metadata": {},
   "source": [
    "---\n",
    "### SeqRepo REST Interface"
   ]
  },
  {
   "cell_type": "code",
   "execution_count": 6,
   "metadata": {},
   "outputs": [],
   "source": [
    "import requests"
   ]
  },
  {
   "cell_type": "code",
   "execution_count": 7,
   "metadata": {},
   "outputs": [
    {
     "data": {
      "text/plain": [
       "{'dependencies': {'bioutils': {'url': 'https://github.com/biocommons/bioutils/',\n",
       "   'version': '0.5.2.post3'},\n",
       "  'seqrepo': {'root': '/usr/local/share/seqrepo/latest',\n",
       "   'url': 'https://github.com/biocommons/biocommons.seqrepo/',\n",
       "   'version': '0.6.2'}},\n",
       " 'url': 'https://github.com/biocommons/seqrepo-rest-service/',\n",
       " 'version': '0.1.2.dev5+gec2a136.d20200713'}"
      ]
     },
     "execution_count": 7,
     "metadata": {},
     "output_type": "execute_result"
    }
   ],
   "source": [
    "requests.get(\"http://localhost:5000/seqrepo/1/ping\").json()"
   ]
  },
  {
   "cell_type": "code",
   "execution_count": 8,
   "metadata": {},
   "outputs": [
    {
     "data": {
      "text/plain": [
       "'ACTAAGCACACAGAGAATAA'"
      ]
     },
     "execution_count": 8,
     "metadata": {},
     "output_type": "execute_result"
    }
   ],
   "source": [
    "requests.get(\"http://localhost:5000/seqrepo/1/sequence/NC_000001.11?start=100000&end=100020\").text"
   ]
  },
  {
   "cell_type": "code",
   "execution_count": 9,
   "metadata": {},
   "outputs": [
    {
     "data": {
      "text/plain": [
       "{'added': '2016-08-27T21:17:00Z',\n",
       " 'aliases': ['GRCh38:1',\n",
       "  'GRCh38:chr1',\n",
       "  'GRCh38.p1:1',\n",
       "  'GRCh38.p1:chr1',\n",
       "  'GRCh38.p10:1',\n",
       "  'GRCh38.p10:chr1',\n",
       "  'GRCh38.p11:1',\n",
       "  'GRCh38.p11:chr1',\n",
       "  'GRCh38.p12:1',\n",
       "  'GRCh38.p12:chr1',\n",
       "  'GRCh38.p2:1',\n",
       "  'GRCh38.p2:chr1',\n",
       "  'GRCh38.p3:1',\n",
       "  'GRCh38.p3:chr1',\n",
       "  'GRCh38.p4:1',\n",
       "  'GRCh38.p4:chr1',\n",
       "  'GRCh38.p5:1',\n",
       "  'GRCh38.p5:chr1',\n",
       "  'GRCh38.p6:1',\n",
       "  'GRCh38.p6:chr1',\n",
       "  'GRCh38.p7:1',\n",
       "  'GRCh38.p7:chr1',\n",
       "  'GRCh38.p8:1',\n",
       "  'GRCh38.p8:chr1',\n",
       "  'GRCh38.p9:1',\n",
       "  'GRCh38.p9:chr1',\n",
       "  'MD5:6aef897c3d6ff0c78aff06ac189178dd',\n",
       "  'NCBI:NC_000001.11',\n",
       "  'refseq:NC_000001.11',\n",
       "  'SEGUID:FCUd6VJ6uikS/VWLbhGdVmj2rOA',\n",
       "  'SHA1:14251de9527aba2912fd558b6e119d5668f6ace0',\n",
       "  'VMC:GS_Ya6Rs7DHhDeg7YaOSg1EoNi3U_nQ9SvO',\n",
       "  'sha512t24u:Ya6Rs7DHhDeg7YaOSg1EoNi3U_nQ9SvO',\n",
       "  'ga4gh:SQ.Ya6Rs7DHhDeg7YaOSg1EoNi3U_nQ9SvO'],\n",
       " 'alphabet': 'ACGMNRT',\n",
       " 'length': 248956422}"
      ]
     },
     "execution_count": 9,
     "metadata": {},
     "output_type": "execute_result"
    }
   ],
   "source": [
    "requests.get(\"http://localhost:5000/seqrepo/1/metadata/NC_000001.11\").json()"
   ]
  },
  {
   "cell_type": "markdown",
   "metadata": {},
   "source": [
    "---\n",
    "### refget API"
   ]
  },
  {
   "cell_type": "code",
   "execution_count": 10,
   "metadata": {},
   "outputs": [
    {
     "data": {
      "text/plain": [
       "'The secret is to bang the rocks together, guys.'"
      ]
     },
     "execution_count": 10,
     "metadata": {},
     "output_type": "execute_result"
    }
   ],
   "source": [
    "requests.get(\"http://localhost:5000/refget/1/ping\").json()"
   ]
  },
  {
   "cell_type": "code",
   "execution_count": 11,
   "metadata": {},
   "outputs": [
    {
     "data": {
      "text/plain": [
       "{'service': {'algorithms': ['md5', 'trunc512'],\n",
       "  'circular_supported': False,\n",
       "  'subsequence_limit': None,\n",
       "  'supported_api_versions': ['1.0']},\n",
       " 'x-config': {'bioutils': {'url': 'https://github.com/biocommons/bioutils/',\n",
       "   'version': '0.5.2.post3'},\n",
       "  'seqrepo': {'root': '/usr/local/share/seqrepo/latest',\n",
       "   'url': 'https://github.com/biocommons/biocommons.seqrepo/',\n",
       "   'version': '0.6.2'},\n",
       "  'seqrepo-rest-service': {'url': 'https://github.com/biocommons/seqrepo-rest-service/',\n",
       "   'version': '0.1.2.dev5+gec2a136.d20200713'}}}"
      ]
     },
     "execution_count": 11,
     "metadata": {},
     "output_type": "execute_result"
    }
   ],
   "source": [
    "requests.get(\"http://localhost:5000/refget/1/sequence/service-info\").json()"
   ]
  },
  {
   "cell_type": "code",
   "execution_count": 12,
   "metadata": {},
   "outputs": [
    {
     "data": {
      "text/plain": [
       "'ACTAAGCACACAGAGAATAA'"
      ]
     },
     "execution_count": 12,
     "metadata": {},
     "output_type": "execute_result"
    }
   ],
   "source": [
    "requests.get(\"http://localhost:5000/refget/1/sequence/ga4gh%3ASQ.Ya6Rs7DHhDeg7YaOSg1EoNi3U_nQ9SvO?start=100000&end=100020\").text"
   ]
  },
  {
   "cell_type": "code",
   "execution_count": 13,
   "metadata": {},
   "outputs": [
    {
     "data": {
      "text/plain": [
       "{'metadata': {'aliases': [{'alias': '1', 'naming_authority': 'GRCh38'},\n",
       "   {'alias': 'chr1', 'naming_authority': 'GRCh38'},\n",
       "   {'alias': '1', 'naming_authority': 'GRCh38.p1'},\n",
       "   {'alias': 'chr1', 'naming_authority': 'GRCh38.p1'},\n",
       "   {'alias': '1', 'naming_authority': 'GRCh38.p10'},\n",
       "   {'alias': 'chr1', 'naming_authority': 'GRCh38.p10'},\n",
       "   {'alias': '1', 'naming_authority': 'GRCh38.p11'},\n",
       "   {'alias': 'chr1', 'naming_authority': 'GRCh38.p11'},\n",
       "   {'alias': '1', 'naming_authority': 'GRCh38.p12'},\n",
       "   {'alias': 'chr1', 'naming_authority': 'GRCh38.p12'},\n",
       "   {'alias': '1', 'naming_authority': 'GRCh38.p2'},\n",
       "   {'alias': 'chr1', 'naming_authority': 'GRCh38.p2'},\n",
       "   {'alias': '1', 'naming_authority': 'GRCh38.p3'},\n",
       "   {'alias': 'chr1', 'naming_authority': 'GRCh38.p3'},\n",
       "   {'alias': '1', 'naming_authority': 'GRCh38.p4'},\n",
       "   {'alias': 'chr1', 'naming_authority': 'GRCh38.p4'},\n",
       "   {'alias': '1', 'naming_authority': 'GRCh38.p5'},\n",
       "   {'alias': 'chr1', 'naming_authority': 'GRCh38.p5'},\n",
       "   {'alias': '1', 'naming_authority': 'GRCh38.p6'},\n",
       "   {'alias': 'chr1', 'naming_authority': 'GRCh38.p6'},\n",
       "   {'alias': '1', 'naming_authority': 'GRCh38.p7'},\n",
       "   {'alias': 'chr1', 'naming_authority': 'GRCh38.p7'},\n",
       "   {'alias': '1', 'naming_authority': 'GRCh38.p8'},\n",
       "   {'alias': 'chr1', 'naming_authority': 'GRCh38.p8'},\n",
       "   {'alias': '1', 'naming_authority': 'GRCh38.p9'},\n",
       "   {'alias': 'chr1', 'naming_authority': 'GRCh38.p9'},\n",
       "   {'alias': '6aef897c3d6ff0c78aff06ac189178dd', 'naming_authority': 'MD5'},\n",
       "   {'alias': 'NC_000001.11', 'naming_authority': 'NCBI'},\n",
       "   {'alias': 'NC_000001.11', 'naming_authority': 'refseq'},\n",
       "   {'alias': 'FCUd6VJ6uikS/VWLbhGdVmj2rOA', 'naming_authority': 'SEGUID'},\n",
       "   {'alias': '14251de9527aba2912fd558b6e119d5668f6ace0',\n",
       "    'naming_authority': 'SHA1'},\n",
       "   {'alias': 'GS_Ya6Rs7DHhDeg7YaOSg1EoNi3U_nQ9SvO', 'naming_authority': 'VMC'},\n",
       "   {'alias': 'Ya6Rs7DHhDeg7YaOSg1EoNi3U_nQ9SvO',\n",
       "    'naming_authority': 'sha512t24u'},\n",
       "   {'alias': 'SQ.Ya6Rs7DHhDeg7YaOSg1EoNi3U_nQ9SvO',\n",
       "    'naming_authority': 'ga4gh'}],\n",
       "  'id': 'Ya6Rs7DHhDeg7YaOSg1EoNi3U_nQ9SvO',\n",
       "  'length': 248956422,\n",
       "  'md5': '6aef897c3d6ff0c78aff06ac189178dd',\n",
       "  'trunc512': '61ae91b3b0c78437a0ed868e4a0d44a0d8b753f9d0f52bce'}}"
      ]
     },
     "execution_count": 13,
     "metadata": {},
     "output_type": "execute_result"
    }
   ],
   "source": [
    "requests.get(\"http://localhost:5000/refget/1/sequence/ga4gh%3ASQ.Ya6Rs7DHhDeg7YaOSg1EoNi3U_nQ9SvO/metadata\").json()"
   ]
  },
  {
   "cell_type": "code",
   "execution_count": null,
   "metadata": {},
   "outputs": [],
   "source": []
  }
 ],
 "metadata": {
  "kernelspec": {
   "display_name": "Python 3",
   "language": "python",
   "name": "python3"
  },
  "language_info": {
   "codemirror_mode": {
    "name": "ipython",
    "version": 3
   },
   "file_extension": ".py",
   "mimetype": "text/x-python",
   "name": "python",
   "nbconvert_exporter": "python",
   "pygments_lexer": "ipython3",
   "version": "3.8.2"
  }
 },
 "nbformat": 4,
 "nbformat_minor": 4
}

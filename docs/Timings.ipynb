{
 "cells": [
  {
   "cell_type": "markdown",
   "metadata": {},
   "source": [
    "## Timing Comparisons\n",
    "This notebook compares timings for fetching short random genomic slices from GRCh38 using SeqRepo and NCBI E-Utilities. (Code for RefGet is provided below, but no collection with human reference data is currently available.)"
   ]
  },
  {
   "cell_type": "code",
   "execution_count": 1,
   "metadata": {},
   "outputs": [],
   "source": [
    "from base64 import urlsafe_b64decode, urlsafe_b64encode\n",
    "from binascii import hexlify, unhexlify\n",
    "import hashlib\n",
    "import itertools\n",
    "import os\n",
    "import random\n",
    "import time\n",
    "\n",
    "import requests\n",
    "\n",
    "from biocommons.seqrepo import SeqRepo"
   ]
  },
  {
   "cell_type": "code",
   "execution_count": 2,
   "metadata": {},
   "outputs": [],
   "source": [
    "# setup fetch_seqrepo(...)\n",
    "\n",
    "sr = SeqRepo(\"/usr/local/share/seqrepo/latest\")\n",
    "\n",
    "def fetch_seqrepo(accession, start=None, end=None):\n",
    "    return sr.fetch(accession, start, end)"
   ]
  },
  {
   "cell_type": "code",
   "execution_count": 3,
   "metadata": {},
   "outputs": [],
   "source": [
    "# setup fetch_ncbi(...)\n",
    "\n",
    "efetch_url = \"https://eutils.ncbi.nlm.nih.gov/entrez/eutils/efetch.fcgi\"\n",
    "rate_limit = 10                       # queries/sec\n",
    "query_period = 1.0/rate_limit         # period between queries\n",
    "\n",
    "ncbi_session = requests.Session()\n",
    "ncbi_session.params.update({\n",
    "    \"db\": \"nucleotide\",\n",
    "    \"rettype\": \"fasta\",\n",
    "    \"retmode\": \"text\",\n",
    "    \"api_key\": os.environ[\"NCBI_API_KEY\"],\n",
    "    \"tool\": os.environ[\"NCBI_API_TOOL\"],\n",
    "    \"email\": os.environ[\"NCBI_API_EMAIL\"]\n",
    "})\n",
    "\n",
    "from requests.adapters import HTTPAdapter\n",
    "ncbi_session.mount(\"https://\", HTTPAdapter(max_retries=3))\n",
    "\n",
    "ncbi_last_query_time = 0\n",
    "def fetch_ncbi(accession, start=None, end=None):\n",
    "    global ncbi_last_query_time\n",
    "    params = {\"id\": accession}\n",
    "    if start:\n",
    "        params[\"seq_start\"] = start + 1\n",
    "    if end:\n",
    "        params[\"seq_stop\"] = end\n",
    "    time_now = time.time()\n",
    "    sleep_time = max(0, ncbi_last_query_time + query_period - time_now)\n",
    "    time.sleep(sleep_time)\n",
    "    ncbi_last_query_time = time_now\n",
    "    resp = ncbi_session.get(efetch_url, params=params)\n",
    "    resp.raise_for_status()\n",
    "    fasta = resp.text\n",
    "    return fasta[fasta.find(\"\\n\")+1:].replace(\"\\n\",\"\")"
   ]
  },
  {
   "cell_type": "code",
   "execution_count": 4,
   "metadata": {},
   "outputs": [],
   "source": [
    "# setup fetch_refget_cram(...)\n",
    "\n",
    "refget_session = requests.Session()\n",
    "refget_session.params.update({\n",
    "    \"accept\": \"text/plain\"\n",
    "})\n",
    "\n",
    "refget_base_url = \"https://www.ebi.ac.uk/ena/cram/sequence\"\n",
    "    \n",
    "def fetch_refget_cram(md5, start=None, end=None):\n",
    "    url = refget_base_url + \"/\" + md5\n",
    "    params = {}\n",
    "    if start:\n",
    "        params[\"start\"] = start\n",
    "    if end:\n",
    "        params[\"end\"] = end\n",
    "    resp = refget_session.get(url, params=params)\n",
    "    resp.raise_for_status()\n",
    "    return resp.text    "
   ]
  },
  {
   "cell_type": "markdown",
   "metadata": {},
   "source": [
    "### Build information to fetch"
   ]
  },
  {
   "cell_type": "code",
   "execution_count": 5,
   "metadata": {},
   "outputs": [],
   "source": [
    "# acs: list of grch38 primary accession refseq ids\n",
    "acs = [\n",
    "    'NC_000001.11', 'NC_000002.12', 'NC_000003.12', 'NC_000004.12', 'NC_000005.10',\n",
    "    'NC_000006.12', 'NC_000007.14', 'NC_000008.11', 'NC_000009.12', 'NC_000010.11',\n",
    "    'NC_000011.10', 'NC_000012.12', 'NC_000013.11', 'NC_000014.9',  'NC_000015.10',\n",
    "    'NC_000016.10', 'NC_000017.11', 'NC_000018.10', 'NC_000019.10', 'NC_000020.11',\n",
    "    'NC_000021.9',  'NC_000022.11', 'NC_000023.11', 'NC_000024.10']"
   ]
  },
  {
   "cell_type": "code",
   "execution_count": 6,
   "metadata": {},
   "outputs": [],
   "source": [
    "# ac_lengths = {refseq_ac: sequence length} (from SeqRepo metadata)\n",
    "ac_lengths = {ac: len(sr[ac]) for ac in acs}"
   ]
  },
  {
   "cell_type": "code",
   "execution_count": 7,
   "metadata": {},
   "outputs": [],
   "source": [
    "def lookup_md5(sr, ac):\n",
    "    s = [a for a in sr[ac].aliases if a.startswith(\"MD5:\")][0]\n",
    "    return s[4:]\n",
    "\n",
    "# ac_md5s = {refseq_ac: md5} (from SeqRepo aliases)\n",
    "ac_md5s = {ac: lookup_md5(sr, ac) for ac in acs}"
   ]
  },
  {
   "cell_type": "code",
   "execution_count": 14,
   "metadata": {},
   "outputs": [],
   "source": [
    "# build two sets of equivalent slices, one with refseq accession, the other with md5 (for refget)\n",
    "def random1():\n",
    "    max_size = 25\n",
    "    ac = random.choice(acs)\n",
    "    start = random.randint(0, ac_lengths[ac] - max_size)\n",
    "    end = start + random.randint(1, 20)\n",
    "    return (ac, start, end)\n",
    "\n",
    "n_slices = 1000\n",
    "refseq_slices = [random1() for _ in range(n_slices)]\n",
    "md5_slices = [(ac_md5s[rs[0]], rs[1], rs[2]) for rs in refseq_slices]"
   ]
  },
  {
   "cell_type": "markdown",
   "metadata": {},
   "source": [
    "### Timing"
   ]
  },
  {
   "cell_type": "code",
   "execution_count": 9,
   "metadata": {},
   "outputs": [],
   "source": [
    "from requests.exceptions import RequestException\n",
    "\n",
    "def time1sliceset(fx, slices):\n",
    "    \"\"\"execute fx on each s in slices, returning tuple of (elapsed time, n_exceptions)\n",
    "    \n",
    "    elapsed time (rather than cpu time) is used because elapsed time is a\n",
    "    better proxy for user experience\n",
    "    \n",
    "    \"\"\"\n",
    "    \n",
    "    def exec1(fx, s):\n",
    "        try:\n",
    "            return fx(*s)\n",
    "        except (RequestException) as e:\n",
    "            return e\n",
    "    \n",
    "    t0 = time.time()\n",
    "    res = [exec1(fx, s) for s in slices]\n",
    "    tdelta = time.time() - t0\n",
    "    n_errors = len([True for r in res if isinstance(r, Exception)])\n",
    "    return (tdelta, n_errors)"
   ]
  },
  {
   "cell_type": "code",
   "execution_count": 15,
   "metadata": {
    "scrolled": true
   },
   "outputs": [
    {
     "name": "stderr",
     "output_type": "stream",
     "text": [
      "2020-09-04 07:46:39 snafu urllib3.connectionpool[395390] WARNING Retrying (Retry(total=2, connect=None, read=None, redirect=None, status=None)) after connection broken by 'ProtocolError('Connection aborted.', RemoteDisconnected('Remote end closed connection without response'))': /entrez/eutils/efetch.fcgi?db=nucleotide&rettype=fasta&retmode=text&api_key=XXX&tool=YYY&email=ZZZ&id=NC_000011.10&seq_start=112694246&seq_stop=112694261\n",
      "2020-09-04 07:46:55 snafu urllib3.connectionpool[395390] WARNING Retrying (Retry(total=2, connect=None, read=None, redirect=None, status=None)) after connection broken by 'ProtocolError('Connection aborted.', RemoteDisconnected('Remote end closed connection without response'))': /entrez/eutils/efetch.fcgi?db=nucleotide&rettype=fasta&retmode=text&api_key=XXX&tool=YYY&email=ZZZ&id=NC_000024.10&seq_start=20556827&seq_stop=20556845\n",
      "2020-09-04 07:46:56 snafu urllib3.connectionpool[395390] WARNING Retrying (Retry(total=2, connect=None, read=None, redirect=None, status=None)) after connection broken by 'ProtocolError('Connection aborted.', RemoteDisconnected('Remote end closed connection without response'))': /entrez/eutils/efetch.fcgi?db=nucleotide&rettype=fasta&retmode=text&api_key=XXX&tool=YYY&email=ZZZ&id=NC_000010.11&seq_start=65509766&seq_stop=65509767\n",
      "2020-09-04 07:46:56 snafu urllib3.connectionpool[395390] WARNING Retrying (Retry(total=2, connect=None, read=None, redirect=None, status=None)) after connection broken by 'ProtocolError('Connection aborted.', RemoteDisconnected('Remote end closed connection without response'))': /entrez/eutils/efetch.fcgi?db=nucleotide&rettype=fasta&retmode=text&api_key=XXX&tool=YYY&email=ZZZ&id=NC_000016.10&seq_start=39695164&seq_stop=39695181\n",
      "2020-09-04 07:47:05 snafu urllib3.connectionpool[395390] WARNING Retrying (Retry(total=2, connect=None, read=None, redirect=None, status=None)) after connection broken by 'ProtocolError('Connection aborted.', RemoteDisconnected('Remote end closed connection without response'))': /entrez/eutils/efetch.fcgi?db=nucleotide&rettype=fasta&retmode=text&api_key=XXX&tool=YYY&email=ZZZ&id=NC_000007.14&seq_start=157772835&seq_stop=157772840\n",
      "2020-09-04 07:47:17 snafu urllib3.connectionpool[395390] WARNING Retrying (Retry(total=2, connect=None, read=None, redirect=None, status=None)) after connection broken by 'ProtocolError('Connection aborted.', RemoteDisconnected('Remote end closed connection without response'))': /entrez/eutils/efetch.fcgi?db=nucleotide&rettype=fasta&retmode=text&api_key=XXX&tool=YYY&email=ZZZ&id=NC_000005.10&seq_start=33886300&seq_stop=33886311\n",
      "2020-09-04 07:47:21 snafu urllib3.connectionpool[395390] WARNING Retrying (Retry(total=2, connect=None, read=None, redirect=None, status=None)) after connection broken by 'ProtocolError('Connection aborted.', RemoteDisconnected('Remote end closed connection without response'))': /entrez/eutils/efetch.fcgi?db=nucleotide&rettype=fasta&retmode=text&api_key=XXX&tool=YYY&email=ZZZ&id=NC_000006.12&seq_start=163491209&seq_stop=163491218\n",
      "2020-09-04 07:47:23 snafu urllib3.connectionpool[395390] WARNING Retrying (Retry(total=2, connect=None, read=None, redirect=None, status=None)) after connection broken by 'ProtocolError('Connection aborted.', RemoteDisconnected('Remote end closed connection without response'))': /entrez/eutils/efetch.fcgi?db=nucleotide&rettype=fasta&retmode=text&api_key=XXX&tool=YYY&email=ZZZ&id=NC_000024.10&seq_start=5657009&seq_stop=5657023\n",
      "2020-09-04 07:47:24 snafu urllib3.connectionpool[395390] WARNING Retrying (Retry(total=2, connect=None, read=None, redirect=None, status=None)) after connection broken by 'ProtocolError('Connection aborted.', RemoteDisconnected('Remote end closed connection without response'))': /entrez/eutils/efetch.fcgi?db=nucleotide&rettype=fasta&retmode=text&api_key=XXX&tool=YYY&email=ZZZ&id=NC_000017.11&seq_start=38064624&seq_stop=38064638\n",
      "2020-09-04 07:47:33 snafu urllib3.connectionpool[395390] WARNING Retrying (Retry(total=2, connect=None, read=None, redirect=None, status=None)) after connection broken by 'ProtocolError('Connection aborted.', RemoteDisconnected('Remote end closed connection without response'))': /entrez/eutils/efetch.fcgi?db=nucleotide&rettype=fasta&retmode=text&api_key=XXX&tool=YYY&email=ZZZ&id=NC_000014.9&seq_start=49954862&seq_stop=49954864\n",
      "2020-09-04 07:47:48 snafu urllib3.connectionpool[395390] WARNING Retrying (Retry(total=2, connect=None, read=None, redirect=None, status=None)) after connection broken by 'ProtocolError('Connection aborted.', RemoteDisconnected('Remote end closed connection without response'))': /entrez/eutils/efetch.fcgi?db=nucleotide&rettype=fasta&retmode=text&api_key=XXX&tool=YYY&email=ZZZ&id=NC_000019.10&seq_start=22679110&seq_stop=22679116\n",
      "2020-09-04 07:47:49 snafu urllib3.connectionpool[395390] WARNING Retrying (Retry(total=2, connect=None, read=None, redirect=None, status=None)) after connection broken by 'ProtocolError('Connection aborted.', RemoteDisconnected('Remote end closed connection without response'))': /entrez/eutils/efetch.fcgi?db=nucleotide&rettype=fasta&retmode=text&api_key=XXX&tool=YYY&email=ZZZ&id=NC_000001.11&seq_start=114967146&seq_stop=114967148\n",
      "2020-09-04 07:47:50 snafu urllib3.connectionpool[395390] WARNING Retrying (Retry(total=2, connect=None, read=None, redirect=None, status=None)) after connection broken by 'ProtocolError('Connection aborted.', RemoteDisconnected('Remote end closed connection without response'))': /entrez/eutils/efetch.fcgi?db=nucleotide&rettype=fasta&retmode=text&api_key=XXX&tool=YYY&email=ZZZ&id=NC_000016.10&seq_start=12174359&seq_stop=12174363\n",
      "2020-09-04 07:47:52 snafu urllib3.connectionpool[395390] WARNING Retrying (Retry(total=2, connect=None, read=None, redirect=None, status=None)) after connection broken by 'ProtocolError('Connection aborted.', RemoteDisconnected('Remote end closed connection without response'))': /entrez/eutils/efetch.fcgi?db=nucleotide&rettype=fasta&retmode=text&api_key=XXX&tool=YYY&email=ZZZ&id=NC_000019.10&seq_start=15066874&seq_stop=15066878\n",
      "2020-09-04 07:48:16 snafu urllib3.connectionpool[395390] WARNING Retrying (Retry(total=2, connect=None, read=None, redirect=None, status=None)) after connection broken by 'ProtocolError('Connection aborted.', RemoteDisconnected('Remote end closed connection without response'))': /entrez/eutils/efetch.fcgi?db=nucleotide&rettype=fasta&retmode=text&api_key=XXX&tool=YYY&email=ZZZ&id=NC_000017.11&seq_start=79632723&seq_stop=79632738\n",
      "2020-09-04 07:48:17 snafu urllib3.connectionpool[395390] WARNING Retrying (Retry(total=2, connect=None, read=None, redirect=None, status=None)) after connection broken by 'ProtocolError('Connection aborted.', RemoteDisconnected('Remote end closed connection without response'))': /entrez/eutils/efetch.fcgi?db=nucleotide&rettype=fasta&retmode=text&api_key=XXX&tool=YYY&email=ZZZ&id=NC_000013.11&seq_start=102101257&seq_stop=102101259\n",
      "2020-09-04 07:48:18 snafu urllib3.connectionpool[395390] WARNING Retrying (Retry(total=2, connect=None, read=None, redirect=None, status=None)) after connection broken by 'ProtocolError('Connection aborted.', RemoteDisconnected('Remote end closed connection without response'))': /entrez/eutils/efetch.fcgi?db=nucleotide&rettype=fasta&retmode=text&api_key=XXX&tool=YYY&email=ZZZ&id=NC_000007.14&seq_start=146531517&seq_stop=146531530\n"
     ]
    },
    {
     "name": "stderr",
     "output_type": "stream",
     "text": [
      "2020-09-04 07:48:18 snafu urllib3.connectionpool[395390] WARNING Retrying (Retry(total=2, connect=None, read=None, redirect=None, status=None)) after connection broken by 'ProtocolError('Connection aborted.', RemoteDisconnected('Remote end closed connection without response'))': /entrez/eutils/efetch.fcgi?db=nucleotide&rettype=fasta&retmode=text&api_key=XXX&tool=YYY&email=ZZZ&id=NC_000020.11&seq_start=14353745&seq_stop=14353749\n",
      "2020-09-04 07:48:18 snafu urllib3.connectionpool[395390] WARNING Retrying (Retry(total=2, connect=None, read=None, redirect=None, status=None)) after connection broken by 'ProtocolError('Connection aborted.', RemoteDisconnected('Remote end closed connection without response'))': /entrez/eutils/efetch.fcgi?db=nucleotide&rettype=fasta&retmode=text&api_key=XXX&tool=YYY&email=ZZZ&id=NC_000014.9&seq_start=51895336&seq_stop=51895353\n",
      "2020-09-04 07:48:19 snafu urllib3.connectionpool[395390] WARNING Retrying (Retry(total=2, connect=None, read=None, redirect=None, status=None)) after connection broken by 'ProtocolError('Connection aborted.', RemoteDisconnected('Remote end closed connection without response'))': /entrez/eutils/efetch.fcgi?db=nucleotide&rettype=fasta&retmode=text&api_key=XXX&tool=YYY&email=ZZZ&id=NC_000002.12&seq_start=8525274&seq_stop=8525293\n",
      "2020-09-04 07:48:20 snafu urllib3.connectionpool[395390] WARNING Retrying (Retry(total=2, connect=None, read=None, redirect=None, status=None)) after connection broken by 'ProtocolError('Connection aborted.', RemoteDisconnected('Remote end closed connection without response'))': /entrez/eutils/efetch.fcgi?db=nucleotide&rettype=fasta&retmode=text&api_key=XXX&tool=YYY&email=ZZZ&id=NC_000014.9&seq_start=89839768&seq_stop=89839775\n",
      "2020-09-04 07:48:21 snafu urllib3.connectionpool[395390] WARNING Retrying (Retry(total=2, connect=None, read=None, redirect=None, status=None)) after connection broken by 'ProtocolError('Connection aborted.', RemoteDisconnected('Remote end closed connection without response'))': /entrez/eutils/efetch.fcgi?db=nucleotide&rettype=fasta&retmode=text&api_key=XXX&tool=YYY&email=ZZZ&id=NC_000005.10&seq_start=77783431&seq_stop=77783435\n",
      "2020-09-04 07:48:22 snafu urllib3.connectionpool[395390] WARNING Retrying (Retry(total=2, connect=None, read=None, redirect=None, status=None)) after connection broken by 'ProtocolError('Connection aborted.', RemoteDisconnected('Remote end closed connection without response'))': /entrez/eutils/efetch.fcgi?db=nucleotide&rettype=fasta&retmode=text&api_key=XXX&tool=YYY&email=ZZZ&id=NC_000013.11&seq_start=74152843&seq_stop=74152845\n",
      "2020-09-04 07:48:42 snafu urllib3.connectionpool[395390] WARNING Retrying (Retry(total=2, connect=None, read=None, redirect=None, status=None)) after connection broken by 'ProtocolError('Connection aborted.', RemoteDisconnected('Remote end closed connection without response'))': /entrez/eutils/efetch.fcgi?db=nucleotide&rettype=fasta&retmode=text&api_key=XXX&tool=YYY&email=ZZZ&id=NC_000007.14&seq_start=128383972&seq_stop=128383978\n",
      "2020-09-04 07:48:43 snafu urllib3.connectionpool[395390] WARNING Retrying (Retry(total=2, connect=None, read=None, redirect=None, status=None)) after connection broken by 'ProtocolError('Connection aborted.', RemoteDisconnected('Remote end closed connection without response'))': /entrez/eutils/efetch.fcgi?db=nucleotide&rettype=fasta&retmode=text&api_key=XXX&tool=YYY&email=ZZZ&id=NC_000013.11&seq_start=54478161&seq_stop=54478168\n",
      "2020-09-04 07:48:52 snafu urllib3.connectionpool[395390] WARNING Retrying (Retry(total=2, connect=None, read=None, redirect=None, status=None)) after connection broken by 'ProtocolError('Connection aborted.', RemoteDisconnected('Remote end closed connection without response'))': /entrez/eutils/efetch.fcgi?db=nucleotide&rettype=fasta&retmode=text&api_key=XXX&tool=YYY&email=ZZZ&id=NC_000017.11&seq_start=72891742&seq_stop=72891761\n",
      "2020-09-04 07:48:53 snafu urllib3.connectionpool[395390] WARNING Retrying (Retry(total=2, connect=None, read=None, redirect=None, status=None)) after connection broken by 'ProtocolError('Connection aborted.', RemoteDisconnected('Remote end closed connection without response'))': /entrez/eutils/efetch.fcgi?db=nucleotide&rettype=fasta&retmode=text&api_key=XXX&tool=YYY&email=ZZZ&id=NC_000021.9&seq_start=5410466&seq_stop=5410470\n",
      "2020-09-04 07:49:12 snafu urllib3.connectionpool[395390] WARNING Retrying (Retry(total=2, connect=None, read=None, redirect=None, status=None)) after connection broken by 'ProtocolError('Connection aborted.', RemoteDisconnected('Remote end closed connection without response'))': /entrez/eutils/efetch.fcgi?db=nucleotide&rettype=fasta&retmode=text&api_key=XXX&tool=YYY&email=ZZZ&id=NC_000023.11&seq_start=153893949&seq_stop=153893962\n",
      "2020-09-04 07:49:32 snafu urllib3.connectionpool[395390] WARNING Retrying (Retry(total=2, connect=None, read=None, redirect=None, status=None)) after connection broken by 'ProtocolError('Connection aborted.', RemoteDisconnected('Remote end closed connection without response'))': /entrez/eutils/efetch.fcgi?db=nucleotide&rettype=fasta&retmode=text&api_key=XXX&tool=YYY&email=ZZZ&id=NC_000022.11&seq_start=5304379&seq_stop=5304380\n",
      "2020-09-04 07:49:43 snafu urllib3.connectionpool[395390] WARNING Retrying (Retry(total=2, connect=None, read=None, redirect=None, status=None)) after connection broken by 'ProtocolError('Connection aborted.', RemoteDisconnected('Remote end closed connection without response'))': /entrez/eutils/efetch.fcgi?db=nucleotide&rettype=fasta&retmode=text&api_key=XXX&tool=YYY&email=ZZZ&id=NC_000007.14&seq_start=88569325&seq_stop=88569336\n",
      "2020-09-04 07:49:44 snafu urllib3.connectionpool[395390] WARNING Retrying (Retry(total=2, connect=None, read=None, redirect=None, status=None)) after connection broken by 'ProtocolError('Connection aborted.', RemoteDisconnected('Remote end closed connection without response'))': /entrez/eutils/efetch.fcgi?db=nucleotide&rettype=fasta&retmode=text&api_key=XXX&tool=YYY&email=ZZZ&id=NC_000022.11&seq_start=38651461&seq_stop=38651477\n",
      "2020-09-04 07:49:45 snafu urllib3.connectionpool[395390] WARNING Retrying (Retry(total=2, connect=None, read=None, redirect=None, status=None)) after connection broken by 'ProtocolError('Connection aborted.', RemoteDisconnected('Remote end closed connection without response'))': /entrez/eutils/efetch.fcgi?db=nucleotide&rettype=fasta&retmode=text&api_key=XXX&tool=YYY&email=ZZZ&id=NC_000024.10&seq_start=26734453&seq_stop=26734457\n",
      "2020-09-04 07:49:46 snafu urllib3.connectionpool[395390] WARNING Retrying (Retry(total=2, connect=None, read=None, redirect=None, status=None)) after connection broken by 'ProtocolError('Connection aborted.', RemoteDisconnected('Remote end closed connection without response'))': /entrez/eutils/efetch.fcgi?db=nucleotide&rettype=fasta&retmode=text&api_key=XXX&tool=YYY&email=ZZZ&id=NC_000022.11&seq_start=4817671&seq_stop=4817672\n",
      "2020-09-04 07:49:47 snafu urllib3.connectionpool[395390] WARNING Retrying (Retry(total=2, connect=None, read=None, redirect=None, status=None)) after connection broken by 'ProtocolError('Connection aborted.', RemoteDisconnected('Remote end closed connection without response'))': /entrez/eutils/efetch.fcgi?db=nucleotide&rettype=fasta&retmode=text&api_key=XXX&tool=YYY&email=ZZZ&id=NC_000006.12&seq_start=85437992&seq_stop=85437993\n"
     ]
    },
    {
     "name": "stderr",
     "output_type": "stream",
     "text": [
      "2020-09-04 07:49:48 snafu urllib3.connectionpool[395390] WARNING Retrying (Retry(total=2, connect=None, read=None, redirect=None, status=None)) after connection broken by 'ProtocolError('Connection aborted.', RemoteDisconnected('Remote end closed connection without response'))': /entrez/eutils/efetch.fcgi?db=nucleotide&rettype=fasta&retmode=text&api_key=XXX&tool=YYY&email=ZZZ&id=NC_000012.12&seq_start=78988546&seq_stop=78988548\n",
      "2020-09-04 07:49:49 snafu urllib3.connectionpool[395390] WARNING Retrying (Retry(total=2, connect=None, read=None, redirect=None, status=None)) after connection broken by 'ProtocolError('Connection aborted.', RemoteDisconnected('Remote end closed connection without response'))': /entrez/eutils/efetch.fcgi?db=nucleotide&rettype=fasta&retmode=text&api_key=XXX&tool=YYY&email=ZZZ&id=NC_000023.11&seq_start=40408147&seq_stop=40408161\n",
      "2020-09-04 07:49:50 snafu urllib3.connectionpool[395390] WARNING Retrying (Retry(total=2, connect=None, read=None, redirect=None, status=None)) after connection broken by 'ProtocolError('Connection aborted.', RemoteDisconnected('Remote end closed connection without response'))': /entrez/eutils/efetch.fcgi?db=nucleotide&rettype=fasta&retmode=text&api_key=XXX&tool=YYY&email=ZZZ&id=NC_000005.10&seq_start=50224569&seq_stop=50224571\n",
      "2020-09-04 07:50:19 snafu urllib3.connectionpool[395390] WARNING Retrying (Retry(total=2, connect=None, read=None, redirect=None, status=None)) after connection broken by 'ProtocolError('Connection aborted.', RemoteDisconnected('Remote end closed connection without response'))': /entrez/eutils/efetch.fcgi?db=nucleotide&rettype=fasta&retmode=text&api_key=XXX&tool=YYY&email=ZZZ&id=NC_000014.9&seq_start=35376475&seq_stop=35376478\n",
      "2020-09-04 07:50:39 snafu urllib3.connectionpool[395390] WARNING Retrying (Retry(total=2, connect=None, read=None, redirect=None, status=None)) after connection broken by 'ProtocolError('Connection aborted.', RemoteDisconnected('Remote end closed connection without response'))': /entrez/eutils/efetch.fcgi?db=nucleotide&rettype=fasta&retmode=text&api_key=XXX&tool=YYY&email=ZZZ&id=NC_000002.12&seq_start=160776987&seq_stop=160776999\n"
     ]
    },
    {
     "data": {
      "text/plain": [
       "(264.1989300251007, 0)"
      ]
     },
     "execution_count": 15,
     "metadata": {},
     "output_type": "execute_result"
    }
   ],
   "source": [
    "time1sliceset(fetch_ncbi, refseq_slices)"
   ]
  },
  {
   "cell_type": "code",
   "execution_count": 16,
   "metadata": {},
   "outputs": [
    {
     "data": {
      "text/plain": [
       "(0.39875006675720215, 0)"
      ]
     },
     "execution_count": 16,
     "metadata": {},
     "output_type": "execute_result"
    }
   ],
   "source": [
    "time1sliceset(fetch_seqrepo, refseq_slices)"
   ]
  },
  {
   "cell_type": "code",
   "execution_count": 17,
   "metadata": {},
   "outputs": [
    {
     "data": {
      "text/plain": [
       "(279.4837005138397, 0)"
      ]
     },
     "execution_count": 17,
     "metadata": {},
     "output_type": "execute_result"
    }
   ],
   "source": [
    "time1sliceset(fetch_refget_cram, md5_slices)"
   ]
  },
  {
   "cell_type": "code",
   "execution_count": 23,
   "metadata": {},
   "outputs": [
    {
     "data": {
      "text/plain": [
       "[3.8, 2507.8, 3.6]"
      ]
     },
     "execution_count": 23,
     "metadata": {},
     "output_type": "execute_result"
    }
   ],
   "source": [
    "# throughput\n",
    "[round(1000.0/t,1) for t in (264.1989300251007, 0.39875006675720215, 279.4837005138397)]"
   ]
  },
  {
   "cell_type": "code",
   "execution_count": null,
   "metadata": {},
   "outputs": [],
   "source": []
  }
 ],
 "metadata": {
  "kernelspec": {
   "display_name": "Python 3",
   "language": "python",
   "name": "python3"
  },
  "language_info": {
   "codemirror_mode": {
    "name": "ipython",
    "version": 3
   },
   "file_extension": ".py",
   "mimetype": "text/x-python",
   "name": "python",
   "nbconvert_exporter": "python",
   "pygments_lexer": "ipython3",
   "version": "3.8.2"
  }
 },
 "nbformat": 4,
 "nbformat_minor": 4
}
